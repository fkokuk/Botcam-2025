{
 "cells": [
  {
   "cell_type": "code",
   "execution_count": 13,
   "id": "fca5fefa",
   "metadata": {},
   "outputs": [
    {
     "name": "stdout",
     "output_type": "stream",
     "text": [
      "Hola mundo\n"
     ]
    }
   ],
   "source": [
    "print(\"Hola mundo\")"
   ]
  },
  {
   "cell_type": "markdown",
   "id": "13df66e9",
   "metadata": {},
   "source": [
    "# challenge: 1 variables en una sola linea. \n"
   ]
  },
  {
   "cell_type": "code",
   "execution_count": 3,
   "id": "f42d4242",
   "metadata": {},
   "outputs": [
    {
     "name": "stdout",
     "output_type": "stream",
     "text": [
      "Fer 20 ñemby\n"
     ]
    }
   ],
   "source": [
    "nombre = 'Fer'\n",
    "ciudad = 'ñemby'\n",
    "edad = 20\n",
    "print(nombre, edad, ciudad)"
   ]
  },
  {
   "cell_type": "code",
   "execution_count": null,
   "id": "f001070a",
   "metadata": {},
   "outputs": [
    {
     "name": "stdout",
     "output_type": "stream",
     "text": [
      "Nombre: Fer Edad: 20 Ciudad: ñemby\n"
     ]
    }
   ],
   "source": [
    "print(\"Nombre:\", nombre, \"Edad:\", edad, \"Ciudad:\", ciudad)"
   ]
  },
  {
   "cell_type": "code",
   "execution_count": 14,
   "id": "e7b19275",
   "metadata": {},
   "outputs": [],
   "source": [
    "#Operaciones :+ suma, - resta, * multiplicacion, / division, //division entera % resto\n"
   ]
  },
  {
   "cell_type": "code",
   "execution_count": 30,
   "id": "d66a4f40",
   "metadata": {},
   "outputs": [
    {
     "name": "stdout",
     "output_type": "stream",
     "text": [
      "Tienes 8 manzanas y 3 naranjas\n",
      "Tienes en total 11 Frutas\n",
      "Se vendio 4\n",
      "Tienes en total 7  frutas luego de restar lo vendido\n"
     ]
    }
   ],
   "source": [
    "cantidad_de_manzanas = 8\n",
    "cantidad_de_naranjas = 3\n",
    "cantidad_de_frutas = cantidad_de_manzanas + cantidad_de_naranjas\n",
    "print(\"Tienes\", cantidad_de_manzanas, \"manzanas\", \"y\", cantidad_de_naranjas, \"naranjas\")\n",
    "print(\"Tienes en total\", cantidad_de_frutas, \"Frutas\")\n",
    "cantidad_de_frutas_vendidas = 4\n",
    "print(\"Se vendio\", cantidad_de_frutas_vendidas)\n",
    "cantidad_de_frutas = cantidad_de_frutas - cantidad_de_frutas_vendidas\n",
    "print(\"Tienes en total\", cantidad_de_frutas, \" frutas luego de restar lo vendido\")"
   ]
  },
  {
   "cell_type": "code",
   "execution_count": 46,
   "id": "06acd449",
   "metadata": {},
   "outputs": [
    {
     "name": "stdout",
     "output_type": "stream",
     "text": [
      "Hola mi nombre es, Ricardo Rincon, Mucho Gusto\n"
     ]
    }
   ],
   "source": [
    "#Asignar el nombre y el apellido de tu compañera/o a las variables nombre y apellido. Luego, imprimir una frase, utilizando las variables.\n",
    "#EJEMPLO: \"Hola. Me llamo Claudia Melgarejo. Mucho gusto.\"\n",
    "\n",
    "        #variables\n",
    "nombre_del_compañero = \"Ricardo\"\n",
    "apellido_del_compañero = \"Rincon\"\n",
    "        # impresiones\n",
    "print(f\"Hola mi nombre es, {nombre_del_compañero} {apellido_del_compañero}, Mucho Gusto\")\n"
   ]
  },
  {
   "cell_type": "code",
   "execution_count": null,
   "id": "97496dbe",
   "metadata": {},
   "outputs": [
    {
     "name": "stdout",
     "output_type": "stream",
     "text": [
      "El primer numero es  4\n",
      "El segundo numero es  2\n",
      "La suma es 6, y la restas es 2\n"
     ]
    }
   ],
   "source": [
    "#Solicitar al usuario ingresar dos números y almacenarlos en dos variables. Luego, imprimir la suma de los dos números.\n",
    "    #Pedimos los numeros\n",
    "num1 = int(input(\"Digite un numero\"))\n",
    "num2 = int(input(\"Digite otro numero\"))\n",
    "        #variables\n",
    "suma = num1 + num2\n",
    "resta = num1 - num2\n",
    "        #impresiones\n",
    "print(\"El primer numero es \", num1)\n",
    "print(\"El segundo numero es \", num2)\n",
    "print(f\"La suma es {suma}, y la restas es {resta}\")\n"
   ]
  },
  {
   "cell_type": "markdown",
   "id": "1b35de80",
   "metadata": {},
   "source": [
    "Funciones\n"
   ]
  },
  {
   "cell_type": "code",
   "execution_count": null,
   "id": "0c432107",
   "metadata": {},
   "outputs": [
    {
     "name": "stdout",
     "output_type": "stream",
     "text": [
      "Hola fer :)\n",
      "El primer numero es 3, y el segundo numero es 6\n",
      "la suma es 9, y la resta es -3\n",
      "Hola fer :)\n",
      "El primer numero es 2, y el segundo numero es 3\n",
      "la suma es 5, y la resta es -1\n",
      "Hola fer :)\n",
      "El primer numero es 7, y el segundo numero es 3\n",
      "la suma es 10, y la resta es 4\n"
     ]
    },
    {
     "data": {
      "text/plain": [
       "(None, None)"
      ]
     },
     "execution_count": 82,
     "metadata": {},
     "output_type": "execute_result"
    }
   ],
   "source": [
    "#Crear una función de un proceso que se les ocurra que tenga varios pasos.\n",
    "#Ejecutar la función 3 veces\n",
    "#paramentros : variables\n",
    "def nombre():\n",
    "    nombre1 = input(\"escriba su nombre\")\n",
    "    print(f\"Hola {nombre1} :)\")\n",
    "nombre()\n",
    "\n",
    "\n",
    "def sumayresta ():\n",
    "    valor1 = int(input(\"Elige un numero\"))\n",
    "    valor2 = int(input(\"Elige otro numero\"))\n",
    "    suma = valor1 + valor2\n",
    "    resta = valor1 - valor2\n",
    "    print(f\"El primer numero es {valor1}, y el segundo numero es {valor2}\")\n",
    "    print(f\"la suma es {suma}, y la resta es {resta}\")\n",
    "sumayresta()\n",
    "\n",
    "nombre(), sumayresta()\n",
    "nombre(), sumayresta()\n",
    "nombre(), sumayresta()\n",
    "\n"
   ]
  },
  {
   "cell_type": "code",
   "execution_count": null,
   "id": "0ea674ef",
   "metadata": {},
   "outputs": [
    {
     "name": "stdout",
     "output_type": "stream",
     "text": [
      "Cortando el costilla\n",
      "Cocinando a punto medio\n",
      "Sirviendo con salsa\n"
     ]
    }
   ],
   "source": [
    "#Escribir una funcion que nos pregunte las caracteristicas de un elemento a comprar e imprima el elemento con sus caracteristicas.\n",
    "tipo_de_carne = input(\"Ingrese el corte que quiere\")\n",
    "punto_de_carne = input(\"Ingrese el punto en el que quiere la carne\")\n",
    "acompañamiento = input(\"ingrese el tipo de guarnicion\")\n",
    "def asado(tipo_de_carne, punto_de_carne, acompañamiento):\n",
    "    print(f\"Cortando el {tipo_de_carne}\")\n",
    "    print(f\"Cocinando a punto {punto_de_carne}\")\n",
    "    print(f\"Sirviendo con {acompañamiento}\")\n",
    "asado(tipo_de_carne, punto_de_carne, acompañamiento)"
   ]
  }
 ],
 "metadata": {
  "kernelspec": {
   "display_name": ".venv",
   "language": "python",
   "name": "python3"
  },
  "language_info": {
   "codemirror_mode": {
    "name": "ipython",
    "version": 3
   },
   "file_extension": ".py",
   "mimetype": "text/x-python",
   "name": "python",
   "nbconvert_exporter": "python",
   "pygments_lexer": "ipython3",
   "version": "3.12.3"
  }
 },
 "nbformat": 4,
 "nbformat_minor": 5
}
