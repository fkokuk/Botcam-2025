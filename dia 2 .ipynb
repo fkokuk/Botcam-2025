{
 "cells": [
  {
   "cell_type": "code",
   "execution_count": null,
   "id": "bffb7d42",
   "metadata": {},
   "outputs": [
    {
     "name": "stdout",
     "output_type": "stream",
     "text": [
      "Hay chocolatada\n"
     ]
    }
   ],
   "source": [
    "#Escribe un programa que pregunte al usuario por su edad y determine si tiene edad suficiente para comprar y consumir alcohol.\n",
    "#Si el usuario tiene mas de 18 pero menos de 21 impirmir \"Podes tomar pero no comprar\"\n",
    "#Si el usuario tiene menos de 18 imprimir \"Juguito nomas\"\n",
    "#Si el usuario tiene mas de 21 imprimir \"Hace lo que quieras\"\n",
    "\n",
    "edad = int(input(\"Ingrese su edad\"))\n",
    "\n",
    "if (edad < 18):\n",
    "    print(\"Hay chocolatada\")\n",
    "elif(edad >= 21):\n",
    "    print(\"Podes hacer lo queres\")\n",
    "else:\n",
    "    print(\"Podes tomar pero no comprar\")"
   ]
  },
  {
   "cell_type": "code",
   "execution_count": null,
   "id": "7da554db",
   "metadata": {},
   "outputs": [
    {
     "name": "stdout",
     "output_type": "stream",
     "text": [
      "La temperatura es 63c\n",
      "ñamano mba`e\n"
     ]
    }
   ],
   "source": [
    "#Escribir un programa en el que se pregunte al usuario por una temperatura (en grados Celsius), imprima la temperatura escrita, y luego clasificar la temperatura ingresada en los siguientes niveles:\n",
    "#Entre -10 y 18 grados, que imprima \"Fresquete\".\n",
    "#Entre 19 y 30 grados, que imprima \"Calor'i\".\n",
    "#Entre 31 y 45 grados, que imprima \"Hakuuuuuu\".\n",
    "#Para todo lo demás, imprimir \"Ñamano mba'e!\".\n",
    "temperatura = int(input(\"Cuantos grados hace?\"))\n",
    "print(f\"La temperatura es {temperatura}C\")\n",
    "if temperatura >= -10 and temperatura <= 18:\n",
    "    print(\"ho'ysaaa\")\n",
    "elif temperatura >= 19 and temperatura <= 30:\n",
    "    print(\"calorsito\")\n",
    "elif temperatura >= 31 and temperatura <= 45:\n",
    "    print(\"HAKUROOO\")\n",
    "else:\n",
    "    print(\"ñamano mba`e\")"
   ]
  },
  {
   "cell_type": "code",
   "execution_count": 47,
   "id": "ddd5a492",
   "metadata": {},
   "outputs": [
    {
     "name": "stdout",
     "output_type": "stream",
     "text": [
      "Contraseña correcta\n"
     ]
    }
   ],
   "source": [
    "#Escribir un programa que almacene una contraseña en una variable, y pregunte al usuario por la contraseña hasta que introduzca la contraseña correcta.\n",
    "#Cuando el usuario ingrese la contrasena correcta, imprimir un mensaje secreto.\n",
    "contraseña_nueva = 0\n",
    "contraseña_nueva = input(\"ingrese su nueva contraseña por favor\")\n",
    "while True:\n",
    "    contraseña = input(\"Ingrese su contraseña\")\n",
    "    if contraseña_nueva != contraseña:\n",
    "        print(\"contraseña incorrecta, vuelve a intentar\")\n",
    "    else:\n",
    "        print(\"Contraseña correcta\")\n",
    "        break\n",
    "    "
   ]
  },
  {
   "cell_type": "code",
   "execution_count": 52,
   "id": "8b065e31",
   "metadata": {},
   "outputs": [
    {
     "name": "stdout",
     "output_type": "stream",
     "text": [
      "contraseña correcta\n"
     ]
    }
   ],
   "source": [
    "pasword = 0\n",
    "pasword = input(\"Ingrese su contraseña nueva\")\n",
    "contra = input(\"ingrese la contraseña\")\n",
    "while pasword != contra:\n",
    "    print(\"contraseña incorrecta\")\n",
    "    input(\"ingrese la contraseña\")\n",
    "print(\"contraseña correcta\")"
   ]
  },
  {
   "cell_type": "code",
   "execution_count": 71,
   "id": "91bc9097",
   "metadata": {},
   "outputs": [
    {
     "name": "stdout",
     "output_type": "stream",
     "text": [
      "['Hamburguesa', 'Pizza', 'Lomito Arabe', 'papa fritas', 'nuggets']\n",
      "['Hamburguesa', 'Pizza', 'Lomito Arabe', 'papa fritas', 'nuggets', 'Lomipizza']\n",
      "['Hamburguesa', 'Pizza', 'papa fritas', 'nuggets', 'Lomipizza']\n",
      "['Hamburguesa', 'Hamburchedar', 'papa fritas', 'nuggets', 'Lomipizza']\n"
     ]
    }
   ],
   "source": [
    "#Crear una lista de 5 elementos. Luego, seguir los siguientes pasos.\n",
    "listas_de_comida = [\"Hamburguesa\", \"Pizza\", \"Lomito Arabe\",\"papa fritas\", \"nuggets\"]\n",
    "print(listas_de_comida)\n",
    "\n",
    "#Agregar un elemento al final de la lista.\n",
    "listas_de_comida.append(\"Lomipizza\")\n",
    "print(listas_de_comida)\n",
    "\n",
    "#Eliminar el tercer elemento.\n",
    "listas_de_comida.pop(2)\n",
    "print(listas_de_comida)\n",
    "\n",
    "#Modificar el segundo elemento.\n",
    "listas_de_comida[1] = \"Hamburchedar\"\n",
    "print(listas_de_comida)"
   ]
  },
  {
   "cell_type": "code",
   "execution_count": 82,
   "id": "ea7a2849",
   "metadata": {},
   "outputs": [
    {
     "name": "stdout",
     "output_type": "stream",
     "text": [
      "0\n",
      "2\n",
      "4\n",
      "6\n",
      "8\n",
      "10\n",
      "12\n",
      "14\n",
      "16\n",
      "18\n"
     ]
    }
   ],
   "source": [
    "#Escribir un programa que itere en un rango de 10 veces. Por cada iteracion multiplicar el iterador por dos e imprimir el resultado.\n",
    "for i in range(10): \n",
    "    multiplicar = i*2\n",
    "    print(multiplicar)"
   ]
  },
  {
   "cell_type": "code",
   "execution_count": 97,
   "id": "180512c6",
   "metadata": {},
   "outputs": [
    {
     "name": "stdout",
     "output_type": "stream",
     "text": [
      "nvidia\n",
      "adidas\n",
      "amazon\n",
      "coca-cola\n",
      "codepro\n",
      "penguin\n"
     ]
    }
   ],
   "source": [
    "#Recorrer los elementos de una lista de marcas e imprimir cada marca solamente si tiene 6 letras o más\n",
    "lista_de_marcas = [\"intel\", \"nike\", \"nvidia\", \"adidas\", \"amazon\", \"pepsi\", \"coca-cola\", \"ryzen\", \"codepro\", \"penguin\"]\n",
    "for marcas in lista_de_marcas:\n",
    "    if len(marcas) >= 6:\n",
    "        print(marcas)  \n",
    "                                                                                                                        \n",
    "\n",
    "\n",
    "\n"
   ]
  },
  {
   "cell_type": "code",
   "execution_count": 103,
   "id": "59101511",
   "metadata": {},
   "outputs": [
    {
     "name": "stdout",
     "output_type": "stream",
     "text": [
      "La frase es oooooo\n",
      "hola\n",
      "hola\n",
      "hola\n",
      "hola\n",
      "hola\n",
      "hola\n"
     ]
    }
   ],
   "source": [
    "#solicitar a un usuario que ingrese una frase\n",
    "#imprimir un mensaje cada que encuentre la letra o\n",
    "frase = input(\"Ingrese una frase\")\n",
    "print(f\"La frase es {frase}\")\n",
    "for letras in frase:\n",
    "    if letras == \"o\":\n",
    "        print(\"hola\")\n"
   ]
  },
  {
   "cell_type": "code",
   "execution_count": null,
   "id": "301902f9",
   "metadata": {},
   "outputs": [],
   "source": [
    "frase = input(\"Ingrese una frase\")\n",
    "print(f\"La frase es {frase}\")\n",
    "for letras in frase:\n",
    "    if letras == \"o\":\n",
    "        print(\"hola\")\n"
   ]
  }
 ],
 "metadata": {
  "kernelspec": {
   "display_name": ".venv",
   "language": "python",
   "name": "python3"
  },
  "language_info": {
   "codemirror_mode": {
    "name": "ipython",
    "version": 3
   },
   "file_extension": ".py",
   "mimetype": "text/x-python",
   "name": "python",
   "nbconvert_exporter": "python",
   "pygments_lexer": "ipython3",
   "version": "3.12.3"
  }
 },
 "nbformat": 4,
 "nbformat_minor": 5
}
