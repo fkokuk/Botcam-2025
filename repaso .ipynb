{
 "cells": [
  {
   "cell_type": "code",
   "execution_count": 7,
   "id": "a36e444b",
   "metadata": {},
   "outputs": [
    {
     "data": {
      "text/plain": [
       "5"
      ]
     },
     "execution_count": 7,
     "metadata": {},
     "output_type": "execute_result"
    }
   ],
   "source": [
    "def suma(num1, num2):\n",
    "    '''Esta es una funcion que hace una suma'''\n",
    "    resultado_suma = num1 + num2\n",
    "    return resultado_suma\n",
    "suma(2,3)\n",
    "\n",
    "    \n"
   ]
  },
  {
   "cell_type": "code",
   "execution_count": 19,
   "id": "72f6dfb8",
   "metadata": {},
   "outputs": [
    {
     "name": "stdout",
     "output_type": "stream",
     "text": [
      "El area es 4.5\n",
      "El doble es 9.0\n"
     ]
    }
   ],
   "source": [
    "#crear una funcion calcular_area con los parametros base y altura que retorne el area de un triangulo\n",
    "#luego el resultado lo multiplicamos por2\n",
    "#imprimir el resultado del area y el total\n",
    "base = float(input(\"Ingrese la base del triangulo\"))\n",
    "altura = float(input(\"Ingrese la altura del triangulo\"))\n",
    "def calcular_area(base, altura):\n",
    "    area = float((base * altura)/2)\n",
    "    print(f\"El area es {area}\")\n",
    "    return area\n",
    "por_2 = calcular_area(base, altura)\n",
    "print(f\"El doble es {por_2*2}\")"
   ]
  },
  {
   "cell_type": "code",
   "execution_count": null,
   "id": "472b4d17",
   "metadata": {},
   "outputs": [
    {
     "name": "stdout",
     "output_type": "stream",
     "text": [
      "Tu numero es negativo\n"
     ]
    }
   ],
   "source": [
    "#Crear un programa que solicite un número  al usuario y nos diga si el numero es:\n",
    "# 'positivo' \n",
    "# 'negativo' \n",
    "# 'o Cero. '\n",
    "numero_del_usuario = float(input(\"Ingrese un numero\"))\n",
    "\n",
    "def verficador_de_numero():\n",
    "    \n",
    "    if numero_del_usuario < 0:\n",
    "        print(\"Tu numero es negativo\")\n",
    "        \n",
    "    elif numero_del_usuario == 0:\n",
    "        print(\"Tu numero es cero\")\n",
    "        \n",
    "    else:\n",
    "        print(\"Tu numero es positivo\")\n",
    "        \n",
    "verficador_de_numero()"
   ]
  },
  {
   "cell_type": "code",
   "execution_count": null,
   "id": "ab93fc31",
   "metadata": {},
   "outputs": [
    {
     "name": "stdout",
     "output_type": "stream",
     "text": [
      "2\n",
      "4\n",
      "6\n",
      "8\n",
      "10\n",
      "55\n"
     ]
    }
   ],
   "source": [
    "#Challenge For\n",
    "#Teniendo una lista de números del 1 al 10, crea un programa que muestre solo los numeros pares. \n",
    "#Luego sumar todos los números de la lista y mostrar el total.\n",
    "numeros = [1,2,3,4,5,6,7,8,9,10]\n",
    "\n",
    "for numero in numeros:\n",
    "    \n",
    "    es_par = numero%2 == 0\n",
    "    if es_par:\n",
    "        print(numero)\n",
    "    \n",
    "    \n",
    "suma_total = 0\n",
    "for numero in numeros:\n",
    "    suma_total = suma_total + numero\n",
    "print(suma_total)\n",
    "    "
   ]
  },
  {
   "cell_type": "code",
   "execution_count": 58,
   "id": "ef64a1fd",
   "metadata": {},
   "outputs": [
    {
     "name": "stdout",
     "output_type": "stream",
     "text": [
      "contraseña correcta\n"
     ]
    }
   ],
   "source": [
    "#while\n",
    "contraseña_correcta = \"fsds1324ds\"\n",
    "contraseña_user = input(\"contrasenha\")\n",
    "\n",
    "#mientras sea incorrecto\n",
    "while contraseña_correcta != contraseña_user:\n",
    "    contraseña_user = input(\"ingrese nuevamente\")\n",
    "    \n",
    "print(\"contraseña correcta\")"
   ]
  },
  {
   "cell_type": "code",
   "execution_count": null,
   "id": "b299e792",
   "metadata": {},
   "outputs": [
    {
     "name": "stdout",
     "output_type": "stream",
     "text": [
      "39.55555555555556\n"
     ]
    }
   ],
   "source": [
    "#Challenge While\n",
    "#Crear una lista con números ingresados por el usuario hasta que escriba 0 (luego salir del bucle)\n",
    "#Y luego mostrar el promedio.\n",
    "lista_del_usuario = []\n",
    "\n",
    "while True:\n",
    "    numero_del_usuario = float(input(\"Ingrese otro numero\"))\n",
    "    if numero_del_usuario ==0 :\n",
    "        break\n",
    "    \n",
    "    lista_del_usuario.append(numero_del_usuario)\n",
    "    \n",
    "promedio = sum(lista_del_usuario)/len(lista_del_usuario) \n",
    "\n",
    "print(promedio)\n",
    "\n",
    "\n"
   ]
  },
  {
   "cell_type": "code",
   "execution_count": null,
   "id": "27af9fe9",
   "metadata": {},
   "outputs": [
    {
     "name": "stdout",
     "output_type": "stream",
     "text": [
      "120.0\n"
     ]
    }
   ],
   "source": [
    "#El precio de alquilar un polideportivo es 120.000 guaranies. Dependiendo de las siguientes condiciones, se puede obtener un descuento:\n",
    "    #Si es mayor de edad y está trabajando -> Paga el 100%\n",
    "    #Si es menor de edad y está trabajando -> Paga el 95%\n",
    "    #Si es mayor de edad y no está trabajando -> Paga el 75%\n",
    "    #Si es menor de edad y no está trabajando -> Paga el 50%\n",
    "#Teniendo la edad de la persona y si trabaja o no, imprimir el precio de alquilar el polideportivo.\n"
   ]
  }
 ],
 "metadata": {
  "kernelspec": {
   "display_name": ".venv",
   "language": "python",
   "name": "python3"
  },
  "language_info": {
   "codemirror_mode": {
    "name": "ipython",
    "version": 3
   },
   "file_extension": ".py",
   "mimetype": "text/x-python",
   "name": "python",
   "nbconvert_exporter": "python",
   "pygments_lexer": "ipython3",
   "version": "3.13.3"
  }
 },
 "nbformat": 4,
 "nbformat_minor": 5
}
